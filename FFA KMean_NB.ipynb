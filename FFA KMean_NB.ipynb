{
 "cells": [
  {
   "cell_type": "code",
   "execution_count": null,
   "metadata": {},
   "outputs": [],
   "source": [
    "from sklearn.cluster import KMeans\n",
    "import numpy as np\n",
    "import pandas"
   ]
  },
  {
   "cell_type": "code",
   "execution_count": null,
   "metadata": {},
   "outputs": [],
   "source": [
    "df = pandas.read_csv(\"C:/Users/diepw/Downloads/Ag Ed for All - Groupings - asd.csv\", \n",
    "                         usecols = ['Name', 'Lat & Long'])"
   ]
  },
  {
   "cell_type": "code",
   "execution_count": null,
   "metadata": {},
   "outputs": [],
   "source": [
    "coords_ = df['Lat & Long'].tolist()\n"
   ]
  },
  {
   "cell_type": "code",
   "execution_count": null,
   "metadata": {},
   "outputs": [],
   "source": [
    "coords = []\n",
    "\n",
    "for string in coords_:\n",
    "    lat, lng = string.split(', ')\n",
    "    coords.append((float(lat), float(lng)))\n"
   ]
  },
  {
   "cell_type": "code",
   "execution_count": null,
   "metadata": {},
   "outputs": [],
   "source": [
    "kmeans = KMeans(n_clusters=24, random_state=0).fit(coords)\n",
    "\n",
    "cluster_labels = kmeans.labels_\n",
    "\n",
    "for i, label in enumerate(cluster_labels):\n",
    "    print(f\"Point {i+1}: Cluster {label+1}\")"
   ]
  }
 ],
 "metadata": {
  "language_info": {
   "name": "python"
  },
  "orig_nbformat": 4
 },
 "nbformat": 4,
 "nbformat_minor": 2
}
