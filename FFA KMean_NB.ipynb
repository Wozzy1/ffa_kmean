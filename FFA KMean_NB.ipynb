{
 "cells": [
  {
   "attachments": {},
   "cell_type": "markdown",
   "metadata": {},
   "source": [
    "**Simple KMeans Algo**"
   ]
  },
  {
   "cell_type": "code",
   "execution_count": 2,
   "metadata": {},
   "outputs": [],
   "source": [
    "from sklearn.cluster import KMeans\n",
    "import numpy as np\n",
    "import pandas\n",
    "from pandasql import sqldf\n"
   ]
  },
  {
   "cell_type": "code",
   "execution_count": 3,
   "metadata": {},
   "outputs": [
    {
     "data": {
      "text/html": [
       "<div>\n",
       "<style scoped>\n",
       "    .dataframe tbody tr th:only-of-type {\n",
       "        vertical-align: middle;\n",
       "    }\n",
       "\n",
       "    .dataframe tbody tr th {\n",
       "        vertical-align: top;\n",
       "    }\n",
       "\n",
       "    .dataframe thead th {\n",
       "        text-align: right;\n",
       "    }\n",
       "</style>\n",
       "<table border=\"1\" class=\"dataframe\">\n",
       "  <thead>\n",
       "    <tr style=\"text-align: right;\">\n",
       "      <th></th>\n",
       "      <th>Name</th>\n",
       "      <th>type</th>\n",
       "      <th>Lat &amp; Long</th>\n",
       "    </tr>\n",
       "  </thead>\n",
       "  <tbody>\n",
       "    <tr>\n",
       "      <th>0</th>\n",
       "      <td>Northwood-Kensett MIddle/High School</td>\n",
       "      <td>Ag</td>\n",
       "      <td>43.452188, -93.227896</td>\n",
       "    </tr>\n",
       "    <tr>\n",
       "      <th>1</th>\n",
       "      <td>Harris-Lake Park High School</td>\n",
       "      <td>Ag</td>\n",
       "      <td>43.445313, -95.32377</td>\n",
       "    </tr>\n",
       "    <tr>\n",
       "      <th>2</th>\n",
       "      <td>Central Lyon Secondary School</td>\n",
       "      <td>Ag</td>\n",
       "      <td>43.421181, -96.170792</td>\n",
       "    </tr>\n",
       "    <tr>\n",
       "      <th>3</th>\n",
       "      <td>Spirit Lake High School</td>\n",
       "      <td>Unsure</td>\n",
       "      <td>43.41594, -95.098323</td>\n",
       "    </tr>\n",
       "    <tr>\n",
       "      <th>4</th>\n",
       "      <td>Lake Mills Senior High School</td>\n",
       "      <td>Ag</td>\n",
       "      <td>43.415556, -93.531659</td>\n",
       "    </tr>\n",
       "    <tr>\n",
       "      <th>...</th>\n",
       "      <td>...</td>\n",
       "      <td>...</td>\n",
       "      <td>...</td>\n",
       "    </tr>\n",
       "    <tr>\n",
       "      <th>396</th>\n",
       "      <td>Lamoni High School</td>\n",
       "      <td>Ag</td>\n",
       "      <td>40.625695, -93.935628</td>\n",
       "    </tr>\n",
       "    <tr>\n",
       "      <th>397</th>\n",
       "      <td>South Page Senior High School</td>\n",
       "      <td>Ag</td>\n",
       "      <td>40.620544, -95.120376</td>\n",
       "    </tr>\n",
       "    <tr>\n",
       "      <th>398</th>\n",
       "      <td>Hamburg Charter High Schools</td>\n",
       "      <td>Unsure</td>\n",
       "      <td>40.615699, -95.652802</td>\n",
       "    </tr>\n",
       "    <tr>\n",
       "      <th>399</th>\n",
       "      <td>Central Lee High School</td>\n",
       "      <td>Ag</td>\n",
       "      <td>40.577006, -91.518805</td>\n",
       "    </tr>\n",
       "    <tr>\n",
       "      <th>400</th>\n",
       "      <td>Keokuk High School</td>\n",
       "      <td>Unsure</td>\n",
       "      <td>40.412483, -91.392114</td>\n",
       "    </tr>\n",
       "  </tbody>\n",
       "</table>\n",
       "<p>401 rows × 3 columns</p>\n",
       "</div>"
      ],
      "text/plain": [
       "                                     Name    type             Lat & Long\n",
       "0    Northwood-Kensett MIddle/High School      Ag  43.452188, -93.227896\n",
       "1            Harris-Lake Park High School      Ag   43.445313, -95.32377\n",
       "2           Central Lyon Secondary School      Ag  43.421181, -96.170792\n",
       "3                 Spirit Lake High School  Unsure   43.41594, -95.098323\n",
       "4           Lake Mills Senior High School      Ag  43.415556, -93.531659\n",
       "..                                    ...     ...                    ...\n",
       "396                    Lamoni High School      Ag  40.625695, -93.935628\n",
       "397         South Page Senior High School      Ag  40.620544, -95.120376\n",
       "398          Hamburg Charter High Schools  Unsure  40.615699, -95.652802\n",
       "399               Central Lee High School      Ag  40.577006, -91.518805\n",
       "400                    Keokuk High School  Unsure  40.412483, -91.392114\n",
       "\n",
       "[401 rows x 3 columns]"
      ]
     },
     "metadata": {},
     "output_type": "display_data"
    }
   ],
   "source": [
    "# creates a pandas dataframe using the csv downloaded from excel sheet provided\n",
    "# path needs to be changed to work anywhere else\n",
    "# dataframe only reads 3 of the many columns\n",
    "df = pandas.read_csv(\"C:/Users/diepw/Downloads/Ag Ed for All - Groupings - asd.csv\", \n",
    "                         usecols = ['Name', 'Lat & Long','type'])\n"
   ]
  },
  {
   "cell_type": "code",
   "execution_count": 47,
   "metadata": {},
   "outputs": [],
   "source": [
    "# creates a python list to be later used in the visualizing\n",
    "# not necessary for this to work\n",
    "\n",
    "coords_ = df['Lat & Long'].tolist()\n",
    "school = list(df['Name'])"
   ]
  },
  {
   "cell_type": "code",
   "execution_count": 48,
   "metadata": {},
   "outputs": [],
   "source": [
    "# coverts the inital string of paired coords into pair of floats to be used in the next box\n",
    "coords = []\n",
    "\n",
    "for string in coords_:\n",
    "    lat, lng = string.split(', ')\n",
    "    coords.append((float(lat), float(lng)))\n"
   ]
  },
  {
   "cell_type": "code",
   "execution_count": 49,
   "metadata": {},
   "outputs": [
    {
     "name": "stdout",
     "output_type": "stream",
     "text": [
      "[(43.452188, -93.227896), (43.445313, -95.32377), (43.421181, -96.170792), (43.41594, -95.098323), (43.415556, -93.531659), (43.405384, -95.735518), (43.401087, -94.824394), (43.39876, -94.479361), (43.391856, -96.430113), (43.388091, -93.948121), (43.374311, -92.916868), (43.37422, -92.103077), (43.361037, -91.221517), (43.355601, -92.554119), (43.341799, -95.995294), (43.323947, -95.159301), (43.306438, -91.784722), (43.28718, -93.20215), (43.277697, -92.810513), (43.272044, -91.490652), (43.26498, -93.648501), (43.239211, -94.754438), (43.207845, -96.288165), (43.196211, -96.288111), (43.195173, -96.147866), (43.192765, -96.133586), (43.188803, -96.136019), (43.184641, -95.486497), (43.183544, -95.835205), (43.180131, -91.866971), (43.152303, -93.169725), (43.150322, -93.168183), (43.146977, -93.188054), (43.143409, -93.404492), (43.140337, -95.133579), (43.139252, -93.366551), (43.136718, -93.197998), (43.131979, -94.90272), (43.131486, -93.238824), (43.117013, -94.691476), (43.110256, -92.03526), (43.093182, -93.81357), (43.089869, -93.609251), (43.088045, -96.15601), (43.082429, -91.573381), (43.0791, -94.21413), (43.064539, -94.223177), (43.061387, -92.659236), (43.059443, -92.326983), (43.052081, -92.933008), (43.044819, -91.391352), (43.003152, -96.07176), (43.000162, -96.473982), (42.997616, -96.048855), (42.977563, -95.691161), (42.968539, -91.801298), (42.95861, -94.450042), (42.949384, -92.540219), (42.899271, -92.799632), (42.897874, -93.218073), (42.87612, -95.150605), (42.856403, -91.407733), (42.852564, -92.10662), (42.849491, -93.603491), (42.832524, -96.549256), (42.818918, -95.802943), (42.810178, -95.967665), (42.8023, -92.260642), (42.793867, -96.155817), (42.7871, -92.66514), (42.785218, -91.096612), (42.783246, -91.097314), (42.775994, -96.165877), (42.770459, -91.880447), (42.755223, -95.555007), (42.753255, -93.208924), (42.737032, -93.71936), (42.73434, -94.674151), (42.721569, -92.488228), (42.715605, -94.229861), (42.68911, -91.649623), (42.681418, -92.140699), (42.674386, -91.922978), (42.673529, -91.902134), (42.666452, -92.324339), (42.666287, -93.906261), (42.66552, -95.304203), (42.649602, -92.459828), (42.648402, -95.192645), (42.648402, -95.192645), (42.64443, -91.40125), (42.639972, -95.197373), (42.625719, -96.296391), (42.605372, -94.997709), (42.586056, -95.979455), (42.574221, -92.781714), (42.567141, -92.159778), (42.550112, -93.048866), (42.542804, -96.388606), (42.537334, -92.457607), (42.535457, -93.27211), (42.534933, -94.530019), (42.529396, -92.461532), (42.517676, -90.706491), (42.51385, -94.164363), (42.511116, -90.704312), (42.511005, -96.449699), (42.510284, -94.167128), (42.509099, -90.750782), (42.506516, -90.690613), (42.50296, -96.408799), (42.501968, -92.329056), (42.501479, -90.733845), (42.496935, -92.420051), (42.495834, -92.306116), (42.49441, -96.402466), (42.488418, -91.453678), (42.48734, -95.537719), (42.483612, -96.06797), (42.480278, -95.779928), (42.480117, -92.064912), (42.476648, -96.17493), (42.475531, -91.737307), (42.474471, -96.32923), (42.472467, -91.114056), (42.470866, -92.351378), (42.468562, -92.377212), (42.466857, -92.62802), (42.46567, -93.839243), (42.464162, -92.342078), (42.463171, -91.916829), (42.453191, -96.338956), (42.442269, -90.941794), (42.426725, -91.328413), (42.418086, -92.215651), (42.400048, -92.454671), (42.394793, -96.353404), (42.356409, -93.114232), (42.355729, -92.777142), (42.335809, -95.463489), (42.320155, -92.59911), (42.314568, -92.199258), (42.310576, -95.055493), (42.3023, -93.644976), (42.301195, -91.018496), (42.291167, -91.66125), (42.279342, -94.294765), (42.267265, -94.742393), (42.259515, -90.429055), (42.254406, -90.443924), (42.245575, -93.067419), (42.245259, -93.066864), (42.231576, -91.177614), (42.230135, -96.217352), (42.22467, -92.867089), (42.208865, -91.525874), (42.188945, -93.588335), (42.188467, -92.467654), (42.188348, -91.791546), (42.161099, -95.789026), (42.158766, -94.477913), (42.151977, -92.025191), (42.150148, -91.619794), (42.12745, -96.156764), (42.110148, -91.272833), (42.102084, -93.637473), (42.094751, -92.67475), (42.091751, -94.859298), (42.075193, -95.100821), (42.062167, -93.887086), (42.061319, -94.728906), (42.059906, -91.006261), (42.059374, -94.866762), (42.059178, -90.672552), (42.055542, -91.44473), (42.053328, -91.597782), (42.047633, -90.398596), (42.040405, -93.634866), (42.035217, -92.907239), (42.032807, -94.036376), (42.032286, -94.387845), (42.029664, -92.908295), (42.026369, -95.348698), (42.024913, -91.724316), (42.024721, -91.680561), (42.023358, -91.59212), (42.022676, -93.437834), (42.022532, -96.103975), (42.019486, -93.17059), (42.012979, -92.085909), (42.012979, -92.085909), (42.010547, -93.317586), (42.008055, -92.77991), (42.006465, -91.672345), (41.997191, -91.631441), (41.99563, -91.61056), (41.976752, -92.583071), (41.972805, -91.652855), (41.965336, -91.698967), (41.942428, -90.378578), (41.92039, -91.430091), (41.919007, -91.388943), (41.903252, -95.0576), (41.903214, -91.669445), (41.900834, -93.61308), (41.890379, -93.396535), (41.890168, -92.268511), (41.884889, -91.05913), (41.883273, -93.814315), (41.877189, -94.682191), (41.872293, -93.923973), (41.856002, -93.926008), (41.854126, -95.593967), (41.843007, -90.193391), (41.840294, -94.082016), (41.837814, -90.838043), (41.836477, -90.206385), (41.826747, -93.14905), (41.821283, -90.524552), (41.815581, -93.613604), (41.803446, -91.502736), (41.799334, -92.067703), (41.787694, -90.261834), (41.771137, -91.124076), (41.750366, -92.737867), (41.75008, -93.622467), (41.73887, -92.445578), (41.737606, -95.707362), (41.73541, -91.569733), (41.732575, -93.622995), (41.7298, -92.294995), (41.719393, -93.605284), (41.712679, -94.922201), (41.712011, -93.462714), (41.708824, -96.017298), (41.706353, -91.674548), (41.699956, -93.070102), (41.691592, -94.374653), (41.690292, -93.822396), (41.688397, -93.050816), (41.679513, -93.760924), (41.679183, -91.509641), (41.678494, -93.231319), (41.671151, -91.36343), (41.668747, -94.496746), (41.666882, -91.504218), (41.663897, -91.307998), (41.662932, -92.019399), (41.662932, -92.019399), (41.661098, -93.607905), (41.659331, -91.506076), (41.656733, -95.339282), (41.65413, -91.581166), (41.652949, -95.787058), (41.652934, -90.58437), (41.644071, -91.50428), (41.637456, -93.714734), (41.636137, -93.683525), (41.628966, -93.561583), (41.6288, -93.7978), (41.622678, -93.883951), (41.61734, -93.623177), (41.610839, -94.014993), (41.608913, -93.550914), (41.603548, -90.91386), (41.603453, -93.589641), (41.602426, -93.864401), (41.597721, -93.446104), (41.596706, -93.601282), (41.595865, -93.72247), (41.595029, -91.010581), (41.59257, -93.678318), (41.590833, -95.056941), (41.590342, -93.655712), (41.590076, -92.523672), (41.590076, -92.523672), (41.586906, -93.754237), (41.586816, -93.71414), (41.583932, -93.641335), (41.582341, -92.843744), (41.577908, -91.269741), (41.576408, -90.579754), (41.563021, -95.879678), (41.562619, -93.755216), (41.561983, -93.62651), (41.560868, -90.511627), (41.558791, -90.589875), (41.557159, -90.496792), (41.552726, -90.471278), (41.546765, -90.587294), (41.540035, -91.788965), (41.537178, -90.627403), (41.53149, -90.576438), (41.531097, -93.953777), (41.529236, -90.506353), (41.515234, -92.087706), (41.515073, -93.098162), (41.505998, -94.314668), (41.504274, -95.594284), (41.498078, -93.489889), (41.49516, -94.123857), (41.484975, -91.426343), (41.473893, -93.671782), (41.470605, -95.341408), (41.468283, -91.823681), (41.468183, -91.82319), (41.459663, -92.648321), (41.453307, -92.333837), (41.452261, -94.773405), (41.445235, -94.767364), (41.439127, -91.075506), (41.407341, -91.540861), (41.40033, -92.903276), (41.396544, -94.996524), (41.392558, -92.889216), (41.389581, -95.68656), (41.388189, -93.271734), (41.375321, -93.738836), (41.368868, -91.953742), (41.359816, -93.543965), (41.328918, -92.194016), (41.326522, -94.022029), (41.317065, -93.114448), (41.311327, -94.464845), (41.309785, -92.640599), (41.309175, -92.641172), (41.305739, -91.202413), (41.2889, -95.403344), (41.288212, -91.695726), (41.270727, -91.365985), (41.262026, -95.820079), (41.261596, -95.882887), (41.258525, -95.820736), (41.240431, -95.137071), (41.235479, -95.829895), (41.232378, -95.603093), (41.22413, -95.824489), (41.221336, -93.242158), (41.218568, -95.852323), (41.218022, -92.927111), (41.210756, -93.84266), (41.204594, -93.495313), (41.200786, -94.414066), (41.179979, -91.188889), (41.160558, -92.615065), (41.155442, -92.163214), (41.153421, -91.660027), (41.126859, -91.439824), (41.072321, -94.369246), (41.048914, -95.730807), (41.042761, -93.769617), (41.038957, -93.953691), (41.029105, -92.802711), (41.025418, -92.393825), (41.025233, -94.180829), (41.022991, -95.223572), (41.019463, -93.307619), (41.015202, -92.405919), (41.01393, -91.161004), (41.012598, -95.583257), (41.008367, -91.955219), (41.006964, -92.442806), (40.990549, -94.740073), (40.984242, -95.100473), (40.96628, -91.548735), (40.961443, -92.046151), (40.961314, -92.237462), (40.942741, -91.537083), (40.92781, -91.39738), (40.902374, -95.671248), (40.894365, -92.817918), (40.876577, -94.556807), (40.860466, -91.315493), (40.827171, -95.308691), (40.826902, -93.6054), (40.818129, -91.161255), (40.807556, -94.341406), (40.805518, -91.13644), (40.802446, -91.140464), (40.757786, -93.320515), (40.757131, -95.368648), (40.753022, -92.407493), (40.752154, -95.363026), (40.748152, -93.743004), (40.744607, -92.41383), (40.742449, -95.6605), (40.742449, -95.6605), (40.7404, -95.048622), (40.73096, -91.967541), (40.717749, -94.226721), (40.688802, -92.674666), (40.686447, -92.881614), (40.68115, -93.116074), (40.670205, -94.722746), (40.636709, -91.343126), (40.636088, -91.33321), (40.625695, -93.935628), (40.620544, -95.120376), (40.615699, -95.652802), (40.577006, -91.518805), (40.412483, -91.392114)]\n"
     ]
    }
   ],
   "source": [
    "print(coords)"
   ]
  },
  {
   "cell_type": "code",
   "execution_count": 50,
   "metadata": {},
   "outputs": [
    {
     "name": "stdout",
     "output_type": "stream",
     "text": [
      "['Northwood-Kensett MIddle/High School', 'Harris-Lake Park High School', 'Central Lyon Secondary School', 'Spirit Lake High School', 'Lake Mills Senior High School', 'Sibley-Ocheyedan High School', 'Estherville Lincoln Central High School', 'North Union High School', 'West Lyon High School', 'North Iowa High School', 'St Ansgar High School', 'Crestwood High School', 'Kee High School', 'Riceville High School', 'George-Little Rock Senior High School', 'Okoboji High School', 'Decorah High School', 'Central Springs High School', 'Osage High School', 'Waukon High School', 'Forest City High School', 'Graettinger-Terril High School', 'Rock Valley High School', 'Netherlands Reformed Christian School', 'Trinity Christian High School', 'Western Christian High School', 'Boyden-Hull High School', 'Hartley-Melvin-Sanborn High School', 'Sheldon High School', 'South Winneshiek High School', 'Alternative School (Mason City)', 'Mason City High School (Mason City)', 'North Iowa Christian School (Mason City)', 'Clear Lake Classical - Church Campus', 'Spencer High School', 'Clear Lake High School', 'Mason City Virtual Academy (Mason City)', 'Ruthven-Ayrshire High School', 'Newman Catholic High School (Mason City)', 'Emmetsburg High School', 'Turkey Valley Jr-Sr High School', 'West Hancock High School', 'Garner-Hayfield-Ventura High School', 'Sioux Center High School', 'John R Mott Jr/Hi School', 'Bishop Garrigan Campus', 'Algona High School', 'Charles City High School', 'New Hampton High School', 'Rockford Junior-Senior High School', 'MFL MarMac HS', 'Unity Christian High School', 'West Sioux High School', 'MOC-Floyd Valley High School', \"South O'Brien Secondary School\", 'North Fayette Valley High School', 'West Bend-Mallard High School', 'Nashua-Plainfield Junior-SeniorHigh School', 'North Butler Jr/Sr High School', 'West Fork High School', 'Sioux Central High School', 'Central Middle School/High School', 'Sumner-Fredericksburg HS', 'Belmond-Klemme Community Jr-Sr High School', 'Akron Westfield Senior High School', 'MMCRU  High School', 'St Marys High School - RSM', 'Tripoli Middle/Sr High School', 'Gehlen Catholic High School', 'Clarksville High School', 'Clayton Ridge High School', 'Iowa Virtual Academy', 'Le Mars High School', 'West Central Charter High School', 'Washington High School', 'Hampton-Dumont High School', 'Clarion-Goldfield-Dows High School', 'Pocahontas Area Middle/ High School', 'Waverly-Shell Rock Senior High School', 'Humboldt High School', 'Starmont High School', 'Wapsie Valley High School', 'Oelwein Online School', 'Oelwein High School', 'Denver Senior High School', 'Eagle Grove High School', 'Alta-Aurelia High School', 'Janesville Junior-Senior High School', 'St Lake/IA Cntrl/Buena Vista Early College HS', 'Storm Lake High School', 'Edgewood-Colesburg High School', \"St Mary's High School\", 'Hinton High School', 'Newell-Fonda High School', 'Kingsley-Pierson High School', 'Aplington-Parkersburg High School', 'Dunkerton High School', 'AGWSR High School', 'North High School (Sioux City)', 'Cedar Falls Virtual Campus (Waterloo)', 'Iowa Falls - Alden High School', 'Manson Northwest Webster Junior High/High School', 'Cedar Falls High School (Waterloo)', 'Wahlert Catholic High School (Dubuque)', 'Fort Dodge High School', 'Dubuque Online School (Dubuque)', 'West High School (Sioux City)', 'St Edmond Catholic', 'Tri-State Christian (Dubuque)', 'Dubuque Senior High School (Dubuque)', 'Bishop Heelan Catholic High School (Sioux City)', 'East High School (Waterloo)', 'Hempstead High School (Dubuque)', 'Valley Lutheran School (Waterloo)', 'Expo Alternative Learning Center (Waterloo)', 'V.I.B.E. Academy (Sioux City)', 'West Delaware High School', 'Ridge View High School', 'Woodbury Central High School', 'River Valley Junior- Senior High School', 'Jesup High School', 'Lawton-Bronson Junior-Senior High School', 'East Buchanan High School', 'Siouxland Christian School (Sioux City)', 'Beckman Catholic HS', 'West High School (Waterloo)', 'Waterloo Christian High School (Waterloo)', 'Dike-New Hartford High School', 'Webster City High School', 'Columbus Catholic High School (Waterloo)', 'Independence Junior Senior High School', 'East High School (Sioux City)', 'Western Dubuque High School', 'Maquoketa Valley Senior High School', 'Don Bosco High School', 'Hudson High School', 'Sergeant Bluff-Luton Senior High School (Sioux City)', 'South Hardin High School', 'Grundy Center High School', 'Odebolt Arthur Battle Creek Ida Grove High School', 'Gladbrook-Reinbeck Jr. High & High School', 'Union High School', 'East Sac County High School', 'South Hamilton Middle And High School', 'Cascade Junior-Senior High School', 'North-Linn Senior High School', 'Southeast Valley High School', 'South Central Calhoun High School', 'Marquette Catholic High School', 'Bellevue High School', 'Choice Charter School', 'Jordahl Academy', 'Monticello High School', 'Westwood High School', 'BCLUW High School', 'Central City High School', 'Roland-Story High School', 'North Tama High School', 'Center Point-Urbana High School', 'Maple Valley-Anthon Oto High School', 'Paton-Churdan Jr-Sr High School', 'Vinton-Shellsburg High School', 'Alburnett Senior High School', 'Whiting Senior High School', 'Anamosa High School', 'Gilbert  High School', 'GMG Secondary School', 'Carroll High School', 'Westside Junior-Senior High School', 'Boone High School', 'Glidden-Ralston Jr-Sr High School', 'Midland Middle/High  School', 'Kuemper High School', 'Maquoketa Community High School', 'Springville Secondary School', 'Linn-Mar High School', 'Easton Valley Junior High / High School', 'Ames High School', 'Marshalltown Virtual Academy', 'Ogden High School', 'Greene County High School', 'Marshalltown High School', 'Denison High School', 'Xavier High School (Cedar Rapids)', 'John F Kennedy High School (Cedar Rapids)', 'Marion High School', 'Nevada High School', 'West Monona High School', 'West Marshall High School', 'Benton Community Senior High School', 'Benton Online Academy', 'Colo-NESCO  Middle/High School', 'East Marshall Senior High School', 'Isaac Newton Christian Academy (Cedar Rapids)', 'George Washington High School (Cedar Rapids)', 'Cedar Valley Christian School (Cedar Rapids)', 'South Tama County High School', 'Metro High School (Cedar Rapids)', 'Thomas Jefferson High School (Cedar Rapids)', 'Northeast Middle-High School', 'Mount Vernon High School', 'Lisbon Secondary', 'IKM-Manning High School', 'Prairie High School (Cedar Rapids)', 'Ballard High School', 'Collins-Maxwell Middle/High School', 'Belle Plaine Jr/Sr High School', 'North Cedar Jr/Sr High School', 'Madrid High School', 'Coon Rapids-Bayard 6-12 Attendance Center', 'Woodward Academy', 'Woodward-Granger High School', 'Boyer Valley Middle/High School', 'Prince of Peace Catholic High School (Clinton)', 'Perry High School', 'Calamus-Wheatland Sec Attendance Center', 'Clinton High School (Clinton)', 'Baxter High School', 'Central DeWitt  High School', 'North Polk High School', 'Solon High School', 'Iowa Valley Jr-Sr High School', 'Camanche High School (Clinton)', 'Tipton High School', 'Grinnell Community Senior High School', 'Ankeny Centennial High School (North Des Moines)', 'Brooklyn-Guernsey-Malcom Jr-Sr High School', 'Woodbine High School', 'Liberty High School (Iowa City)', 'Ankeny Christian Academy (North Des Moines)', 'H-L-V Junior-Senior High School', 'Ankeny High School (North Des Moines)', 'Audubon Middle-High School', 'Bondurant-Farrar High School', 'West Harrison Middle School/High School', 'Clear Creek Amana High School', 'WEST Academy Alternative School', 'Panorama High School', 'Dallas Center-Grimes High School', 'Newton Senior High  School', 'Johnston Senior High School (North Des Moines)', 'ICCSD PK-12 Online Learning Program (Iowa City)', 'Colfax-Mingo Jr/Sr High School', 'West Branch High School', 'Guthrie Center High School', 'Regina Jr Sr High School (Iowa City)', 'Scattergood Friends School', 'Williamsburg Jr-Sr High School', 'Williamsburg Virtual Academy', 'Saydel High School', 'Iowa City High School (Iowa City)', 'Harlan High School', 'West Senior High School (Iowa City)', 'Logan-Magnolia Jr-Sr High School', 'North Scott High School', 'Elizabeth Tate Alt. High School (Iowa City)', 'Urbandale High School (North Des Moines)', 'Hoover High School', 'OneSchool Global - Des Moines / Central Campus', 'Des Moines Christian Secondary School (North Des Moines)', 'Northwest High School', 'North High School', 'ADM Senior High School', 'Grand View Christian High School', 'Durant Junior/Senior High School', 'JOSHUA CHRISTIAN ACADEMY', 'Waukee High School', 'Southeast Polk High School', 'East High School', 'Dowling Catholic High School', 'Wilton Jr-Sr High School', 'Roosevelt High School', 'ExiraElk Horn-Kimballton High School', 'Ruby Van Meter', 'Montezuma High School', 'Montezuma Virtual Learning Academy', 'Valley High School', 'Walnut Creek Campus', 'Virtual Campus', 'Lynnville-Sully High School', 'West Liberty High School', 'North High School (Davenport)', 'Missouri Valley High School', 'Valley Southwoods', 'Lincoln High School', 'Morning Star Academy (Davenport)', 'Mid City High (Davenport)', 'Bettendorf High School (Davenport)', 'Pleasant Valley High School (Davenport)', 'Assumption High School (Davenport)', 'Iowa Mennonite School dba Hillcrest Academy', 'West High School (Davenport)', 'Central High School (Davenport)', 'Van Meter High School', 'Rivermont Collegiate (Davenport)', 'English Valleys Jr-Sr High School', 'PCM High School', 'West Central Valley High School', 'Tri-Center High School', 'Carlisle High School (South Des Moines)', 'Earlham Senior High School', 'Lone Tree Middle-Senior High School', 'Norwalk Senior High School (South Des Moines)', 'AHSTW High School', 'Mid-Prairie High School', 'Mid-Prairie Virtual Academy', 'North Mahaska Jr-Sr High School', 'Tri-County JR/SR High School', 'CAM High School', 'Iowa Connections Academy High School', 'Muscatine High School', 'Highland High School', 'Pella High School', 'Atlantic High School', 'Pella Christian High School', 'Underwood High School', 'Pleasantville High School', 'Martensdale-St Marys Jr-Sr High School', 'Keota High School', 'Indianola High School', 'Sigourney Jr-Sr High Sch', 'Winterset Senior High School', 'Knoxville High School', 'Nodaway Valley High School', 'Oskaloosa High School', 'Oskaloosa Virtual Academy', 'Louisa-Muscatine JR/SR High School', 'Riverside Community High School', 'Washington High School', 'Columbus Community High School', 'Saint Albert School (Council Bluffs)', 'Thomas Jefferson High School (Council Bluffs)', 'Abraham Lincoln High School (Council Bluffs)', 'Griswold Middle/High School', 'OneSchool Global (Council Bluffs)', 'Treynor High School', 'Lewis Central Senior High School (Council Bluffs)', 'Melcher-Dallas High School', 'Heartland Christian School (Council Bluffs)', 'Twin Cedars Jr-Sr High School', 'Interstate 35 High School', 'Southeast Warren Jr-Sr High School', 'Orient-Macksburg Senior High School', 'Wapello Senior High School', 'Eddyville-Blakesburg-Fremont Jr/Sr High', 'Pekin Community Junior/ Senior High School', 'WACO High School', 'Winfield-Mt Union Jr-Sr High School', 'Creston High School', 'Glenwood Senior High School', 'Clarke Community High School', 'Murray Jr/Sr High', 'Albia High School', 'Ottumwa Virtual Learning (Ottumwa)', 'East Union Middle-High School', 'Red Oak Junior/Senior High School', 'Chariton High School', 'Ottumwa High School', 'Mediapolis High School', 'East Mills Jr/Sr High School', 'Fairfield High School', 'Ottumwa Christian School (Ottumwa)', 'Southwest Valley High school', 'Stanton High School', 'WisdomQuest Education  Center', 'Maharishi School', 'Cardinal High School', 'Mount Pleasant High School', 'New London Jr-Sr High School', 'Fremont-Mills Middle And Senior High School', 'Moravia High School', 'Lenox High School', 'Danville Junior-Senior High School', 'Essex Junior-Senior High School', 'Mormon Trail Jr-Sr High School', 'West Burlington Arnold Jr./Sr. High School (Burlington)', 'Diagonal Junior-Senior High School', 'Burlington Community High School (Burlington)', 'Notre Dame High School (Burlington)', 'Wayne Community Jr-Sr High School', 'IGNITE Online & Personalized Learning', 'Davis County Community High School', 'Shenandoah High School', 'Central Decatur MS/HS High School', 'DC Online', 'Sidney High School', 'Sidney Virtual SAC School', 'Clarinda High School', 'Van Buren County Community Middle & High School', 'Mount Ayr High School', 'Moulton-Udell High School', 'Centerville High School', 'Seymour High School', 'Bedford High School', 'Holy Trinity Jr-Sr High', 'Fort Madison High School', 'Lamoni High School', 'South Page Senior High School', 'Hamburg Charter High Schools', 'Central Lee High School', 'Keokuk High School']\n"
     ]
    }
   ],
   "source": [
    "print(school)"
   ]
  },
  {
   "cell_type": "code",
   "execution_count": 10,
   "metadata": {},
   "outputs": [
    {
     "ename": "PandaSQLException",
     "evalue": "(sqlite3.OperationalError) near \"df\": syntax error\n[SQL: \n    SELECT \n    df.Name AS School,\n    df.Lat_&_Long AS Coords\n    df.type AS Type\n    FROM df\n    WHERE df.type = 'Ag'\n]\n(Background on this error at: https://sqlalche.me/e/20/e3q8)",
     "output_type": "error",
     "traceback": [
      "\u001b[1;31m---------------------------------------------------------------------------\u001b[0m",
      "\u001b[1;31mOperationalError\u001b[0m                          Traceback (most recent call last)",
      "File \u001b[1;32m~\\AppData\\Local\\Packages\\PythonSoftwareFoundation.Python.3.11_qbz5n2kfra8p0\\LocalCache\\local-packages\\Python311\\site-packages\\sqlalchemy\\engine\\base.py:1965\u001b[0m, in \u001b[0;36mConnection._exec_single_context\u001b[1;34m(self, dialect, context, statement, parameters)\u001b[0m\n\u001b[0;32m   1964\u001b[0m     \u001b[39mif\u001b[39;00m \u001b[39mnot\u001b[39;00m evt_handled:\n\u001b[1;32m-> 1965\u001b[0m         \u001b[39mself\u001b[39;49m\u001b[39m.\u001b[39;49mdialect\u001b[39m.\u001b[39;49mdo_execute(\n\u001b[0;32m   1966\u001b[0m             cursor, str_statement, effective_parameters, context\n\u001b[0;32m   1967\u001b[0m         )\n\u001b[0;32m   1969\u001b[0m \u001b[39mif\u001b[39;00m \u001b[39mself\u001b[39m\u001b[39m.\u001b[39m_has_events \u001b[39mor\u001b[39;00m \u001b[39mself\u001b[39m\u001b[39m.\u001b[39mengine\u001b[39m.\u001b[39m_has_events:\n",
      "File \u001b[1;32m~\\AppData\\Local\\Packages\\PythonSoftwareFoundation.Python.3.11_qbz5n2kfra8p0\\LocalCache\\local-packages\\Python311\\site-packages\\sqlalchemy\\engine\\default.py:921\u001b[0m, in \u001b[0;36mDefaultDialect.do_execute\u001b[1;34m(self, cursor, statement, parameters, context)\u001b[0m\n\u001b[0;32m    920\u001b[0m \u001b[39mdef\u001b[39;00m \u001b[39mdo_execute\u001b[39m(\u001b[39mself\u001b[39m, cursor, statement, parameters, context\u001b[39m=\u001b[39m\u001b[39mNone\u001b[39;00m):\n\u001b[1;32m--> 921\u001b[0m     cursor\u001b[39m.\u001b[39mexecute(statement, parameters)\n",
      "\u001b[1;31mOperationalError\u001b[0m: near \"df\": syntax error",
      "\nThe above exception was the direct cause of the following exception:\n",
      "\u001b[1;31mOperationalError\u001b[0m                          Traceback (most recent call last)",
      "File \u001b[1;32m~\\AppData\\Local\\Packages\\PythonSoftwareFoundation.Python.3.11_qbz5n2kfra8p0\\LocalCache\\local-packages\\Python311\\site-packages\\pandasql\\sqldf.py:61\u001b[0m, in \u001b[0;36mPandaSQL.__call__\u001b[1;34m(self, query, env)\u001b[0m\n\u001b[0;32m     60\u001b[0m \u001b[39mtry\u001b[39;00m:\n\u001b[1;32m---> 61\u001b[0m     result \u001b[39m=\u001b[39m read_sql(query, conn)\n\u001b[0;32m     62\u001b[0m \u001b[39mexcept\u001b[39;00m DatabaseError \u001b[39mas\u001b[39;00m ex:\n",
      "File \u001b[1;32m~\\AppData\\Local\\Packages\\PythonSoftwareFoundation.Python.3.11_qbz5n2kfra8p0\\LocalCache\\local-packages\\Python311\\site-packages\\pandas\\io\\sql.py:663\u001b[0m, in \u001b[0;36mread_sql\u001b[1;34m(sql, con, index_col, coerce_float, params, parse_dates, columns, chunksize, dtype_backend, dtype)\u001b[0m\n\u001b[0;32m    662\u001b[0m \u001b[39melse\u001b[39;00m:\n\u001b[1;32m--> 663\u001b[0m     \u001b[39mreturn\u001b[39;00m pandas_sql\u001b[39m.\u001b[39;49mread_query(\n\u001b[0;32m    664\u001b[0m         sql,\n\u001b[0;32m    665\u001b[0m         index_col\u001b[39m=\u001b[39;49mindex_col,\n\u001b[0;32m    666\u001b[0m         params\u001b[39m=\u001b[39;49mparams,\n\u001b[0;32m    667\u001b[0m         coerce_float\u001b[39m=\u001b[39;49mcoerce_float,\n\u001b[0;32m    668\u001b[0m         parse_dates\u001b[39m=\u001b[39;49mparse_dates,\n\u001b[0;32m    669\u001b[0m         chunksize\u001b[39m=\u001b[39;49mchunksize,\n\u001b[0;32m    670\u001b[0m         dtype_backend\u001b[39m=\u001b[39;49mdtype_backend,\n\u001b[0;32m    671\u001b[0m         dtype\u001b[39m=\u001b[39;49mdtype,\n\u001b[0;32m    672\u001b[0m     )\n",
      "File \u001b[1;32m~\\AppData\\Local\\Packages\\PythonSoftwareFoundation.Python.3.11_qbz5n2kfra8p0\\LocalCache\\local-packages\\Python311\\site-packages\\pandas\\io\\sql.py:1738\u001b[0m, in \u001b[0;36mSQLDatabase.read_query\u001b[1;34m(self, sql, index_col, coerce_float, parse_dates, params, chunksize, dtype, dtype_backend)\u001b[0m\n\u001b[0;32m   1692\u001b[0m \u001b[39m\u001b[39m\u001b[39m\"\"\"\u001b[39;00m\n\u001b[0;32m   1693\u001b[0m \u001b[39mRead SQL query into a DataFrame.\u001b[39;00m\n\u001b[0;32m   1694\u001b[0m \n\u001b[1;32m   (...)\u001b[0m\n\u001b[0;32m   1736\u001b[0m \n\u001b[0;32m   1737\u001b[0m \u001b[39m\"\"\"\u001b[39;00m\n\u001b[1;32m-> 1738\u001b[0m result \u001b[39m=\u001b[39m \u001b[39mself\u001b[39;49m\u001b[39m.\u001b[39;49mexecute(sql, params)\n\u001b[0;32m   1739\u001b[0m columns \u001b[39m=\u001b[39m result\u001b[39m.\u001b[39mkeys()\n",
      "File \u001b[1;32m~\\AppData\\Local\\Packages\\PythonSoftwareFoundation.Python.3.11_qbz5n2kfra8p0\\LocalCache\\local-packages\\Python311\\site-packages\\pandas\\io\\sql.py:1562\u001b[0m, in \u001b[0;36mSQLDatabase.execute\u001b[1;34m(self, sql, params)\u001b[0m\n\u001b[0;32m   1561\u001b[0m \u001b[39mif\u001b[39;00m \u001b[39misinstance\u001b[39m(sql, \u001b[39mstr\u001b[39m):\n\u001b[1;32m-> 1562\u001b[0m     \u001b[39mreturn\u001b[39;00m \u001b[39mself\u001b[39;49m\u001b[39m.\u001b[39;49mcon\u001b[39m.\u001b[39;49mexec_driver_sql(sql, \u001b[39m*\u001b[39;49margs)\n\u001b[0;32m   1563\u001b[0m \u001b[39mreturn\u001b[39;00m \u001b[39mself\u001b[39m\u001b[39m.\u001b[39mcon\u001b[39m.\u001b[39mexecute(sql, \u001b[39m*\u001b[39margs)\n",
      "File \u001b[1;32m~\\AppData\\Local\\Packages\\PythonSoftwareFoundation.Python.3.11_qbz5n2kfra8p0\\LocalCache\\local-packages\\Python311\\site-packages\\sqlalchemy\\engine\\base.py:1774\u001b[0m, in \u001b[0;36mConnection.exec_driver_sql\u001b[1;34m(self, statement, parameters, execution_options)\u001b[0m\n\u001b[0;32m   1773\u001b[0m dialect \u001b[39m=\u001b[39m \u001b[39mself\u001b[39m\u001b[39m.\u001b[39mdialect\n\u001b[1;32m-> 1774\u001b[0m ret \u001b[39m=\u001b[39m \u001b[39mself\u001b[39;49m\u001b[39m.\u001b[39;49m_execute_context(\n\u001b[0;32m   1775\u001b[0m     dialect,\n\u001b[0;32m   1776\u001b[0m     dialect\u001b[39m.\u001b[39;49mexecution_ctx_cls\u001b[39m.\u001b[39;49m_init_statement,\n\u001b[0;32m   1777\u001b[0m     statement,\n\u001b[0;32m   1778\u001b[0m     \u001b[39mNone\u001b[39;49;00m,\n\u001b[0;32m   1779\u001b[0m     execution_options,\n\u001b[0;32m   1780\u001b[0m     statement,\n\u001b[0;32m   1781\u001b[0m     distilled_parameters,\n\u001b[0;32m   1782\u001b[0m )\n\u001b[0;32m   1784\u001b[0m \u001b[39mreturn\u001b[39;00m ret\n",
      "File \u001b[1;32m~\\AppData\\Local\\Packages\\PythonSoftwareFoundation.Python.3.11_qbz5n2kfra8p0\\LocalCache\\local-packages\\Python311\\site-packages\\sqlalchemy\\engine\\base.py:1844\u001b[0m, in \u001b[0;36mConnection._execute_context\u001b[1;34m(self, dialect, constructor, statement, parameters, execution_options, *args, **kw)\u001b[0m\n\u001b[0;32m   1843\u001b[0m \u001b[39melse\u001b[39;00m:\n\u001b[1;32m-> 1844\u001b[0m     \u001b[39mreturn\u001b[39;00m \u001b[39mself\u001b[39;49m\u001b[39m.\u001b[39;49m_exec_single_context(\n\u001b[0;32m   1845\u001b[0m         dialect, context, statement, parameters\n\u001b[0;32m   1846\u001b[0m     )\n",
      "File \u001b[1;32m~\\AppData\\Local\\Packages\\PythonSoftwareFoundation.Python.3.11_qbz5n2kfra8p0\\LocalCache\\local-packages\\Python311\\site-packages\\sqlalchemy\\engine\\base.py:1984\u001b[0m, in \u001b[0;36mConnection._exec_single_context\u001b[1;34m(self, dialect, context, statement, parameters)\u001b[0m\n\u001b[0;32m   1983\u001b[0m \u001b[39mexcept\u001b[39;00m \u001b[39mBaseException\u001b[39;00m \u001b[39mas\u001b[39;00m e:\n\u001b[1;32m-> 1984\u001b[0m     \u001b[39mself\u001b[39;49m\u001b[39m.\u001b[39;49m_handle_dbapi_exception(\n\u001b[0;32m   1985\u001b[0m         e, str_statement, effective_parameters, cursor, context\n\u001b[0;32m   1986\u001b[0m     )\n\u001b[0;32m   1988\u001b[0m \u001b[39mreturn\u001b[39;00m result\n",
      "File \u001b[1;32m~\\AppData\\Local\\Packages\\PythonSoftwareFoundation.Python.3.11_qbz5n2kfra8p0\\LocalCache\\local-packages\\Python311\\site-packages\\sqlalchemy\\engine\\base.py:2339\u001b[0m, in \u001b[0;36mConnection._handle_dbapi_exception\u001b[1;34m(self, e, statement, parameters, cursor, context, is_sub_exec)\u001b[0m\n\u001b[0;32m   2338\u001b[0m     \u001b[39massert\u001b[39;00m sqlalchemy_exception \u001b[39mis\u001b[39;00m \u001b[39mnot\u001b[39;00m \u001b[39mNone\u001b[39;00m\n\u001b[1;32m-> 2339\u001b[0m     \u001b[39mraise\u001b[39;00m sqlalchemy_exception\u001b[39m.\u001b[39mwith_traceback(exc_info[\u001b[39m2\u001b[39m]) \u001b[39mfrom\u001b[39;00m \u001b[39me\u001b[39;00m\n\u001b[0;32m   2340\u001b[0m \u001b[39melse\u001b[39;00m:\n",
      "File \u001b[1;32m~\\AppData\\Local\\Packages\\PythonSoftwareFoundation.Python.3.11_qbz5n2kfra8p0\\LocalCache\\local-packages\\Python311\\site-packages\\sqlalchemy\\engine\\base.py:1965\u001b[0m, in \u001b[0;36mConnection._exec_single_context\u001b[1;34m(self, dialect, context, statement, parameters)\u001b[0m\n\u001b[0;32m   1964\u001b[0m     \u001b[39mif\u001b[39;00m \u001b[39mnot\u001b[39;00m evt_handled:\n\u001b[1;32m-> 1965\u001b[0m         \u001b[39mself\u001b[39;49m\u001b[39m.\u001b[39;49mdialect\u001b[39m.\u001b[39;49mdo_execute(\n\u001b[0;32m   1966\u001b[0m             cursor, str_statement, effective_parameters, context\n\u001b[0;32m   1967\u001b[0m         )\n\u001b[0;32m   1969\u001b[0m \u001b[39mif\u001b[39;00m \u001b[39mself\u001b[39m\u001b[39m.\u001b[39m_has_events \u001b[39mor\u001b[39;00m \u001b[39mself\u001b[39m\u001b[39m.\u001b[39mengine\u001b[39m.\u001b[39m_has_events:\n",
      "File \u001b[1;32m~\\AppData\\Local\\Packages\\PythonSoftwareFoundation.Python.3.11_qbz5n2kfra8p0\\LocalCache\\local-packages\\Python311\\site-packages\\sqlalchemy\\engine\\default.py:921\u001b[0m, in \u001b[0;36mDefaultDialect.do_execute\u001b[1;34m(self, cursor, statement, parameters, context)\u001b[0m\n\u001b[0;32m    920\u001b[0m \u001b[39mdef\u001b[39;00m \u001b[39mdo_execute\u001b[39m(\u001b[39mself\u001b[39m, cursor, statement, parameters, context\u001b[39m=\u001b[39m\u001b[39mNone\u001b[39;00m):\n\u001b[1;32m--> 921\u001b[0m     cursor\u001b[39m.\u001b[39mexecute(statement, parameters)\n",
      "\u001b[1;31mOperationalError\u001b[0m: (sqlite3.OperationalError) near \"df\": syntax error\n[SQL: \n    SELECT \n    df.Name AS School,\n    df.Lat_&_Long AS Coords\n    df.type AS Type\n    FROM df\n    WHERE df.type = 'Ag'\n]\n(Background on this error at: https://sqlalche.me/e/20/e3q8)",
      "\nDuring handling of the above exception, another exception occurred:\n",
      "\u001b[1;31mPandaSQLException\u001b[0m                         Traceback (most recent call last)",
      "Cell \u001b[1;32mIn[10], line 11\u001b[0m\n\u001b[0;32m      1\u001b[0m query \u001b[39m=\u001b[39m \u001b[39m'''\u001b[39m\n\u001b[0;32m      2\u001b[0m \u001b[39m    SELECT \u001b[39m\n\u001b[0;32m      3\u001b[0m \u001b[39m    df.Name AS School,\u001b[39m\n\u001b[1;32m   (...)\u001b[0m\n\u001b[0;32m      7\u001b[0m \u001b[39m    WHERE df.type = \u001b[39m\u001b[39m'\u001b[39m\u001b[39mAg\u001b[39m\u001b[39m'\u001b[39m\n\u001b[0;32m      8\u001b[0m \u001b[39m'''\u001b[39m\n\u001b[0;32m     10\u001b[0m \u001b[39m# Execute the query\u001b[39;00m\n\u001b[1;32m---> 11\u001b[0m final_df \u001b[39m=\u001b[39m sqldf(query, \u001b[39mlocals\u001b[39;49m())\n\u001b[0;32m     13\u001b[0m display(final_df)\n",
      "File \u001b[1;32m~\\AppData\\Local\\Packages\\PythonSoftwareFoundation.Python.3.11_qbz5n2kfra8p0\\LocalCache\\local-packages\\Python311\\site-packages\\pandasql\\sqldf.py:156\u001b[0m, in \u001b[0;36msqldf\u001b[1;34m(query, env, db_uri)\u001b[0m\n\u001b[0;32m    124\u001b[0m \u001b[39mdef\u001b[39;00m \u001b[39msqldf\u001b[39m(query, env\u001b[39m=\u001b[39m\u001b[39mNone\u001b[39;00m, db_uri\u001b[39m=\u001b[39m\u001b[39m'\u001b[39m\u001b[39msqlite:///:memory:\u001b[39m\u001b[39m'\u001b[39m):\n\u001b[0;32m    125\u001b[0m \u001b[39m    \u001b[39m\u001b[39m\"\"\"\u001b[39;00m\n\u001b[0;32m    126\u001b[0m \u001b[39m    Query pandas data frames using sql syntax\u001b[39;00m\n\u001b[0;32m    127\u001b[0m \u001b[39m    This function is meant for backward compatibility only. New users are encouraged to use the PandaSQL class.\u001b[39;00m\n\u001b[1;32m   (...)\u001b[0m\n\u001b[0;32m    154\u001b[0m \u001b[39m    >>> sqldf(\"select avg(x) from df;\", locals())\u001b[39;00m\n\u001b[0;32m    155\u001b[0m \u001b[39m    \"\"\"\u001b[39;00m\n\u001b[1;32m--> 156\u001b[0m     \u001b[39mreturn\u001b[39;00m PandaSQL(db_uri)(query, env)\n",
      "File \u001b[1;32m~\\AppData\\Local\\Packages\\PythonSoftwareFoundation.Python.3.11_qbz5n2kfra8p0\\LocalCache\\local-packages\\Python311\\site-packages\\pandasql\\sqldf.py:63\u001b[0m, in \u001b[0;36mPandaSQL.__call__\u001b[1;34m(self, query, env)\u001b[0m\n\u001b[0;32m     61\u001b[0m     result \u001b[39m=\u001b[39m read_sql(query, conn)\n\u001b[0;32m     62\u001b[0m \u001b[39mexcept\u001b[39;00m DatabaseError \u001b[39mas\u001b[39;00m ex:\n\u001b[1;32m---> 63\u001b[0m     \u001b[39mraise\u001b[39;00m PandaSQLException(ex)\n\u001b[0;32m     64\u001b[0m \u001b[39mexcept\u001b[39;00m ResourceClosedError:\n\u001b[0;32m     65\u001b[0m     \u001b[39m# query returns nothing\u001b[39;00m\n\u001b[0;32m     66\u001b[0m     result \u001b[39m=\u001b[39m \u001b[39mNone\u001b[39;00m\n",
      "\u001b[1;31mPandaSQLException\u001b[0m: (sqlite3.OperationalError) near \"df\": syntax error\n[SQL: \n    SELECT \n    df.Name AS School,\n    df.Lat_&_Long AS Coords\n    df.type AS Type\n    FROM df\n    WHERE df.type = 'Ag'\n]\n(Background on this error at: https://sqlalche.me/e/20/e3q8)"
     ]
    }
   ],
   "source": [
    "\n",
    "query = '''\n",
    "    SELECT \n",
    "    df.Name AS School,\n",
    "    df.'Lat & Long' AS Coords\n",
    "    df.type AS Type\n",
    "    FROM df\n",
    "    WHERE df.type = 'Ag'\n",
    "'''\n",
    "\n",
    "# Execute the query\n",
    "final_df = sqldf(query, locals())\n",
    "\n",
    "display(final_df)"
   ]
  },
  {
   "cell_type": "code",
   "execution_count": null,
   "metadata": {},
   "outputs": [],
   "source": [
    "# KMeans function that creates clusters from the locations of each school\n",
    "kmeans = KMeans(n_clusters=24, random_state=0).fit(coords)\n",
    "\n",
    "cluster_labels = kmeans.labels_\n",
    "\n",
    "# for i, label in enumerate(cluster_labels):\n",
    "#     print(f\"Point {i+1}, aka {school[i]}: Cluster {label+1}\")\n",
    "\n"
   ]
  },
  {
   "cell_type": "code",
   "execution_count": null,
   "metadata": {},
   "outputs": [],
   "source": [
    "#visualize final df\n",
    "final_df = pandas.DataFrame.from_dict(\n",
    "    {\n",
    "        'School':school,\n",
    "        'Group':cluster_labels+1\n",
    "    }\n",
    ")\n",
    "# display(final_df)"
   ]
  },
  {
   "cell_type": "code",
   "execution_count": null,
   "metadata": {},
   "outputs": [],
   "source": [
    "from pathlib import Path  \n",
    "filepath = Path('C:/Users/diepw/Downloads/FFA_Output.csv') #change path \n",
    "filepath.parent.mkdir(parents=True, exist_ok=True)  \n",
    "final_df.to_csv(filepath)"
   ]
  }
 ],
 "metadata": {
  "kernelspec": {
   "display_name": "Python 3",
   "language": "python",
   "name": "python3"
  },
  "language_info": {
   "codemirror_mode": {
    "name": "ipython",
    "version": 3
   },
   "file_extension": ".py",
   "mimetype": "text/x-python",
   "name": "python",
   "nbconvert_exporter": "python",
   "pygments_lexer": "ipython3",
   "version": "3.11.3"
  },
  "orig_nbformat": 4
 },
 "nbformat": 4,
 "nbformat_minor": 2
}
