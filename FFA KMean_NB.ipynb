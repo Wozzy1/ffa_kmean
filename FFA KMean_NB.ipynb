{
 "cells": [
  {
   "attachments": {},
   "cell_type": "markdown",
   "metadata": {},
   "source": [
    "**Simple KMeans Algo**"
   ]
  },
  {
   "cell_type": "code",
   "execution_count": null,
   "metadata": {},
   "outputs": [],
   "source": [
    "from sklearn.cluster import KMeans\n",
    "import numpy as np\n",
    "import pandas"
   ]
  },
  {
   "cell_type": "code",
   "execution_count": null,
   "metadata": {},
   "outputs": [],
   "source": [
    "# creates a pandas dataframe using the csv downloaded from excel sheet provided\n",
    "# path needs to be changed to work anywhere else\n",
    "# dataframe only reads 3 of the many columns\n",
    "df = pandas.read_csv(\"C:/Users/diepw/Downloads/Ag Ed for All - Groupings - asd.csv\", \n",
    "                         usecols = ['Name', 'Lat & Long','type'])"
   ]
  },
  {
   "cell_type": "code",
   "execution_count": null,
   "metadata": {},
   "outputs": [],
   "source": [
    "# creates a python list to be later used in the visualizing\n",
    "# not necessary for this to work\n",
    "\n",
    "coords_ = df['Lat & Long'].tolist()\n",
    "school = list(df['Name'])"
   ]
  },
  {
   "cell_type": "code",
   "execution_count": null,
   "metadata": {},
   "outputs": [],
   "source": [
    "# coverts the inital string of paired coords into pair of floats to be used in the next box\n",
    "coords = []\n",
    "\n",
    "for string in coords_:\n",
    "    lat, lng = string.split(', ')\n",
    "    coords.append((float(lat), float(lng)))\n"
   ]
  },
  {
   "cell_type": "code",
   "execution_count": null,
   "metadata": {},
   "outputs": [],
   "source": [
    "# KMeans function that creates clusters from the locations of each school\n",
    "kmeans = KMeans(n_clusters=24, random_state=0).fit(coords)\n",
    "\n",
    "cluster_labels = kmeans.labels_\n",
    "\n",
    "# for i, label in enumerate(cluster_labels):\n",
    "#     print(f\"Point {i+1}, aka {school[i]}: Cluster {label+1}\")\n",
    "\n"
   ]
  },
  {
   "cell_type": "code",
   "execution_count": null,
   "metadata": {},
   "outputs": [],
   "source": [
    "#visualize final df\n",
    "final_df = pandas.DataFrame.from_dict(\n",
    "    {\n",
    "        'School':school,\n",
    "        'Group':cluster_labels+1\n",
    "    }\n",
    ")\n",
    "# display(final_df)"
   ]
  },
  {
   "cell_type": "code",
   "execution_count": null,
   "metadata": {},
   "outputs": [],
   "source": [
    "from pandasql import sqldf\n",
    "\n",
    "query = '''\n",
    "    SELECT final_df.School, final_df.'Group', df.type AS Type\n",
    "    FROM final_df\n",
    "    LEFT JOIN df \n",
    "    ON final_df.School = df.Name\n",
    "    WHERE df.type = 'Ag'\n",
    "'''\n",
    "\n",
    "# Execute the query\n",
    "final_df = sqldf(query, locals())\n",
    "\n",
    "# display(final_df)"
   ]
  },
  {
   "cell_type": "code",
   "execution_count": null,
   "metadata": {},
   "outputs": [],
   "source": [
    "from pathlib import Path  \n",
    "filepath = Path('C:/Users/diepw/Downloads/FFA_Output.csv') #change path \n",
    "filepath.parent.mkdir(parents=True, exist_ok=True)  \n",
    "final_df.to_csv(filepath)"
   ]
  }
 ],
 "metadata": {
  "kernelspec": {
   "display_name": "Python 3",
   "language": "python",
   "name": "python3"
  },
  "language_info": {
   "codemirror_mode": {
    "name": "ipython",
    "version": 3
   },
   "file_extension": ".py",
   "mimetype": "text/x-python",
   "name": "python",
   "nbconvert_exporter": "python",
   "pygments_lexer": "ipython3",
   "version": "3.11.3"
  },
  "orig_nbformat": 4
 },
 "nbformat": 4,
 "nbformat_minor": 2
}
